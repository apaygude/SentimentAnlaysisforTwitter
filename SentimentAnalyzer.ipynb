{
 "cells": [
  {
   "cell_type": "code",
   "execution_count": 8,
   "metadata": {},
   "outputs": [
    {
     "name": "stdout",
     "output_type": "stream",
     "text": [
      "Positive Tweets for Sachin Tendulkar is 77.17 %\n",
      "Negative Tweets for Sachin Tendulkar is 3.26 %\n",
      "Neutral Tweets for Sachin Tendulkar is 19.57 %\n"
     ]
    },
    {
     "data": {
      "image/png": "[encoded data removed]",
      "text/plain": [
       "<Figure size 432x288 with 1 Axes>"
      ]
     },
     "metadata": {
      "needs_background": "light"
     },
     "output_type": "display_data"
    }
   ],
   "source": [
    "import re \n",
    "import tweepy \n",
    "from tweepy import OAuthHandler \n",
    "from textblob import TextBlob \n",
    "import import_ipynb\n",
    "import matplotlib.pyplot as plt\n",
    "import numpy as np\n",
    "from pathlib import Path\n",
    "import credentials\n",
    "import twitter\n",
    "  \n",
    "class SentimentAnalyzer(object): \n",
    "    \n",
    "    def __init__(self): \n",
    "  \n",
    "        try: \n",
    "            #connect to twitter and authenticate account and enter your keys\n",
    "            self.auth = OAuthHandler(credentials.consumer_key, credentials.consumer_secret) \n",
    "            self.auth.set_access_token(credentials.access_token, credentials.access_token_secret)\n",
    "            self.api = tweepy.API(self.auth) \n",
    "        except: \n",
    "            print(\"Error: Authentication Failed\")\n",
    "            \n",
    "    def tweet_cleaner(self, tweet):\n",
    "        #clean the tweet\n",
    "        return ' '.join(re.sub(\"(@[A-Za-z0-9]+)|([^0-9A-Za-z \\t])|(\\w+:\\/\\/\\S+)\", \" \", tweet).split())\n",
    "    \n",
    "    def percentage(self, tweet, total_tweet):\n",
    "        perc = 100 * float(tweet) / float(total_tweet)\n",
    "        return format(perc, '.2f')\n",
    "    \n",
    "    def access_sentiment(self, tweet): \n",
    "        #accessing sentiments using polarity\n",
    "        tweet_output = TextBlob(self.tweet_cleaner(tweet)) \n",
    "        if tweet_output.sentiment.polarity > 0: \n",
    "            return 1\n",
    "        elif tweet_output.sentiment.polarity==0: \n",
    "            return 0\n",
    "        else:\n",
    "            return -1 \n",
    "                               \n",
    "    def get_tweets(self, query, count = 10): \n",
    "        # four empty lists to store values of positive,negative and neutral tweets\n",
    "        tweets_pos = [] \n",
    "        tweets_neg = []\n",
    "        tweets_neu = []\n",
    "  \n",
    "        try:  \n",
    "            fetched_tweets = self.api.search(q = query, count = count) \n",
    "            for tweet in fetched_tweets:  \n",
    "                parsed_tweet = {} \n",
    "                parsed_tweet['text'] = tweet.text \n",
    "                if self.access_sentiment(tweet.text) == 1:\n",
    "                    tweets_pos.append(1)\n",
    "                elif self.access_sentiment(tweet.text) == -1:\n",
    "                    tweets_neg.append(-1)\n",
    "                elif self.access_sentiment(tweet.text) == 0:\n",
    "                    tweets_neu.append(0)\n",
    "                else:\n",
    "                    print(\"Error Occured\")\n",
    "  \n",
    "            return (len(tweets_pos), len(tweets_neg), len(tweets_neu)) \n",
    "        except tweepy.TweepError as te: \n",
    "            print(\"Error Occured : \" + str(te)) \n",
    "            \n",
    "\n",
    "    \n",
    "def main(): \n",
    "    #data representation\n",
    "    api = SentimentAnalyzer() \n",
    "    query = 'Sachin Tendulkar'\n",
    "    tweets = api.get_tweets(query, count = 200) \n",
    "    count = tweets[0] + tweets[1] + tweets[2]\n",
    "    positive_tweets= api.percentage(tweets[0],count)\n",
    "    negative_tweets= api.percentage(tweets[1],count)\n",
    "    neutral_tweets= api.percentage(tweets[2],count)\n",
    "    print(\"Positive Tweets for {} is {} %\".format(query,positive_tweets))\n",
    "    print(\"Negative Tweets for {} is {} %\".format(query,negative_tweets))\n",
    "    print(\"Neutral Tweets for {} is {} %\".format(query,neutral_tweets))\n",
    "    sentiments=('positive_tweets', 'Negative', 'Neutral')\n",
    "    percentage=[tweets[0], tweets[1], tweets[2]]\n",
    "\n",
    "    plt.bar(sentiments,percentage,align='center')\n",
    "    plt.title(\"Sentiment Analysis\")\n",
    "    plt.xlabel('Sentiments')\n",
    "    plt.ylabel('Percentage')\n",
    "    plt.show()\n",
    "\n",
    "            \n",
    "if __name__ == \"__main__\": \n",
    "    main()"
   ]
  },
  {
   "cell_type": "code",
   "execution_count": null,
   "metadata": {},
   "outputs": [],
   "source": []
  }
 ],
 "metadata": {
  "kernelspec": {
   "display_name": "Python 3",
   "language": "python",
   "name": "python3"
  }
 },
 "nbformat": 4,
 "nbformat_minor": 2
}
